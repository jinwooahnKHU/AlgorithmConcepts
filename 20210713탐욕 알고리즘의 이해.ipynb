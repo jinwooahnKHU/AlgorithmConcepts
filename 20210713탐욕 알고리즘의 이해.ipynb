{
 "cells": [
  {
   "cell_type": "markdown",
   "metadata": {},
   "source": [
    "## 탐욕 알고리즘의 이해"
   ]
  },
  {
   "cell_type": "markdown",
   "metadata": {},
   "source": [
    "### 1. 탐욕 알고리즘 이란?\n",
    "- Greedy algorithm 또는 탐욕 알고리즘 이라고 불리움\n",
    "- 최적의 해에 가까운 값을 구하기 위해 사용됨\n",
    "- 여러 경우 중 하나를 결정해야할 때마다, **매순간 최적이라고 생각되는 경우를 선택**하는 방식으로 진행해서, 최종적인 값을 구하는 방식"
   ]
  },
  {
   "cell_type": "markdown",
   "metadata": {},
   "source": [
    "### 2. 탐욕 알고리즘 예\n",
    "### 문제1: 동전 문제\n",
    "  - 지불해야 하는 값이 4720원 일 때 1원 50원 100원, 500원 동전으로 동전의 수가 가장 적게 지불하시오.\n",
    "    - 가장 큰 동전부터 최대한 지불해야 하는 값을 채우는 방식으로 구현 가능\n",
    "    - 탐욕 알고리즘으로 매순간 최적이라고 생각되는 경우를 선택하면 됨"
   ]
  },
  {
   "cell_type": "code",
   "execution_count": 1,
   "metadata": {
    "ExecuteTime": {
     "end_time": "2021-07-13T13:36:29.107740Z",
     "start_time": "2021-07-13T13:36:29.092602Z"
    }
   },
   "outputs": [],
   "source": [
    "coin_list = [1, 50, 100, 500]\n",
    "\n",
    "#value = 4720, -> 결과로 몇 개를 쓰는지 알려주기\n",
    "def min_coin_count(value, coin_list):\n",
    "    total_coin_count = 0\n",
    "    details = list() #어떤 동전이 몇 개 나오는지\n",
    "    coin_list.sort(reverse = True) #내림차순으로 정렬(그냥 sort은 오름차순)\n",
    "    for coin in coin_list:\n",
    "        coin_num = value // coin #몫\n",
    "        total_coin_count += coin_num\n",
    "        value -= coin_num * coin\n",
    "        details.append([coin, coin_num])\n",
    "    return total_coin_count, details\n",
    "    "
   ]
  },
  {
   "cell_type": "code",
   "execution_count": 2,
   "metadata": {
    "ExecuteTime": {
     "end_time": "2021-07-13T13:36:38.726725Z",
     "start_time": "2021-07-13T13:36:38.714898Z"
    }
   },
   "outputs": [
    {
     "data": {
      "text/plain": [
       "(31, [[500, 9], [100, 2], [50, 0], [1, 20]])"
      ]
     },
     "execution_count": 2,
     "metadata": {},
     "output_type": "execute_result"
    }
   ],
   "source": [
    "min_coin_count(4720, coin_list)"
   ]
  },
  {
   "cell_type": "markdown",
   "metadata": {},
   "source": [
    "### 문제2: 부분 배낭 문제 (Fractional Knapsack Problem)\n",
    "  - 무게 제한이 k인 배낭에 최대 가치를 가지도록 물건을 넣는 문제\n",
    "    - 각 물건은 무게(w)와 가치(v)로 표현될 수 있음\n",
    "    - 물건은 쪼갤 수 있으므로 물건의 일부분이 배낭에 넣어질 수 있음, 그래서 Fractional Knapsack Problem 으로 부름\n",
    "      - Fractional Knapsack Problem 의 반대로 물건을 쪼개서 넣을 수 없는 배낭 문제도 존재함 (0/1 Knapsack Problem 으로 부름)\n",
    "      \n",
    "      - 아래를 보면, 물건1은 10의 무게를 넣으면 10의 가치를 낼 수 있고, 물건 5은 30의 무게를 넣어야 5의 가치를 낼 수 있다(물건1에 비해 가치가 떨어짐)\n",
    "    <img src=\"https://www.fun-coding.org/00_Images/knapsack.png\">"
   ]
  },
  {
   "cell_type": "code",
   "execution_count": 3,
   "metadata": {
    "ExecuteTime": {
     "end_time": "2021-07-13T13:40:05.349252Z",
     "start_time": "2021-07-13T13:40:05.337868Z"
    }
   },
   "outputs": [],
   "source": [
    "data_list = [(10, 10), (15, 12), (20, 10), (25, 8), (30, 5)]"
   ]
  },
  {
   "cell_type": "code",
   "execution_count": 9,
   "metadata": {
    "ExecuteTime": {
     "end_time": "2021-07-13T13:57:44.718815Z",
     "start_time": "2021-07-13T13:57:44.713368Z"
    }
   },
   "outputs": [
    {
     "data": {
      "text/plain": [
       "[(10, 10), (15, 12), (20, 10), (25, 8), (30, 5)]"
      ]
     },
     "execution_count": 9,
     "metadata": {},
     "output_type": "execute_result"
    }
   ],
   "source": [
    "data_list = sorted(data_list, key=lambda x:x[1]/x[0], reverse = True)\n",
    "data_list"
   ]
  },
  {
   "cell_type": "code",
   "execution_count": 11,
   "metadata": {
    "ExecuteTime": {
     "end_time": "2021-07-13T14:02:59.312871Z",
     "start_time": "2021-07-13T14:02:59.305136Z"
    }
   },
   "outputs": [],
   "source": [
    "# data_list와  무게 제한(capacity)를 넣어주면 어떤것을 얼만큼 넣을지 알려줌\n",
    "def get_max_value(data_list, capacity):\n",
    "    #탐욕알고리즘이기에 지금 최적인 것을 넣는다\n",
    "    #무게 대비 가치가 큰 것으로 sorting을 한다\n",
    "    data_list = sorted(data_list, key=lambda x:x[1]/x[0], reverse = True)\n",
    "    total_value = 0 #전체 가치\n",
    "    details = list() #어떤 물건이 얼마나 들어가는지 확인\n",
    "    \n",
    "    for data in data_list:\n",
    "        # 물건이 통째로 다 들어갈 수 있으면 다 넣는다.\n",
    "        if capacity - data[0] >= 0:\n",
    "            capacity -= data[0]\n",
    "            total_value += data[1]\n",
    "            details.append([data[0], data[1], 1 ]) #1은 물건을 몇 % 넣었는지 (1은 100%)\n",
    "        else:\n",
    "            #전체를 다 못넣는다면, 몇 %을 넣어야할지 계산\n",
    "            #capacity가 5 남았는데 넣을 무게가 10 -> 50% 즉, 무게의 반만 넣으면 됨!\n",
    "            fraction = capacity / data[0] \n",
    "#             capacity -= data[0] * fraction 원래 이게 빠진것이긴한데, 어차피 capacity는 0이 될 것..\n",
    "            total_value += data[1] * fraction #무게의 일부만 넣기에 가치도 그만큼만 들어감\n",
    "            details.append([data[0], data[1], fraction])\n",
    "            break #다음 물건은 볼 필요가 없다. 어차피 쪼개서 넣고, capacity=0으로 만들 것이기 때문에\n",
    "    \n",
    "    return total_value, details"
   ]
  },
  {
   "cell_type": "code",
   "execution_count": 12,
   "metadata": {
    "ExecuteTime": {
     "end_time": "2021-07-13T14:03:00.450192Z",
     "start_time": "2021-07-13T14:03:00.445547Z"
    }
   },
   "outputs": [
    {
     "data": {
      "text/plain": [
       "(24.5, [[10, 10, 1], [15, 12, 1], [20, 10, 0.25]])"
      ]
     },
     "execution_count": 12,
     "metadata": {},
     "output_type": "execute_result"
    }
   ],
   "source": [
    "get_max_value(data_list, 30)"
   ]
  },
  {
   "cell_type": "markdown",
   "metadata": {},
   "source": [
    "### 3. 탐욕 알고리즘의 한계\n",
    "- 탐욕 알고리즘은 근사치 추정에 활용\n",
    "- 반드시 최적의 해를 구할 수 있는 것은 아니기 때문\n",
    "- 최적의 해에 가까운 값을 구하는 방법 중의 하나임\n",
    "\n",
    "### 예\n",
    "<img src=\"https://www.fun-coding.org/00_Images/greedy.png\" width=300>\n",
    "\n",
    "- '시작' 노드에서 시작해서 가장 작은 값을 찾아 leaf node 까지 가는 경로를 찾을 시에\n",
    "  - Greedy 알고리즘 적용시 시작 -> 7 -> 12 를 선택하게 되므로 7 + 12 = 19 가 됨 \n",
    "  - 하지만 실제 가장 작은 값은 시작 -> 10 -> 5 이며, 10 + 5 = 15 가 답"
   ]
  },
  {
   "cell_type": "code",
   "execution_count": null,
   "metadata": {},
   "outputs": [],
   "source": []
  }
 ],
 "metadata": {
  "hide_input": false,
  "kernelspec": {
   "display_name": "Python 3",
   "language": "python",
   "name": "python3"
  },
  "language_info": {
   "codemirror_mode": {
    "name": "ipython",
    "version": 3
   },
   "file_extension": ".py",
   "mimetype": "text/x-python",
   "name": "python",
   "nbconvert_exporter": "python",
   "pygments_lexer": "ipython3",
   "version": "3.8.6"
  },
  "nbTranslate": {
   "displayLangs": [
    "*"
   ],
   "hotkey": "alt-t",
   "langInMainMenu": true,
   "sourceLang": "en",
   "targetLang": "fr",
   "useGoogleTranslate": true
  },
  "toc": {
   "base_numbering": 1,
   "nav_menu": {},
   "number_sections": true,
   "sideBar": true,
   "skip_h1_title": false,
   "title_cell": "Table of Contents",
   "title_sidebar": "Contents",
   "toc_cell": false,
   "toc_position": {},
   "toc_section_display": true,
   "toc_window_display": false
  },
  "varInspector": {
   "cols": {
    "lenName": 16,
    "lenType": 16,
    "lenVar": 40
   },
   "kernels_config": {
    "python": {
     "delete_cmd_postfix": "",
     "delete_cmd_prefix": "del ",
     "library": "var_list.py",
     "varRefreshCmd": "print(var_dic_list())"
    },
    "r": {
     "delete_cmd_postfix": ") ",
     "delete_cmd_prefix": "rm(",
     "library": "var_list.r",
     "varRefreshCmd": "cat(var_dic_list()) "
    }
   },
   "types_to_exclude": [
    "module",
    "function",
    "builtin_function_or_method",
    "instance",
    "_Feature"
   ],
   "window_display": false
  }
 },
 "nbformat": 4,
 "nbformat_minor": 1
}

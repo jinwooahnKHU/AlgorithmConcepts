{
 "cells": [
  {
   "cell_type": "markdown",
   "id": "corporate-forwarding",
   "metadata": {},
   "source": [
    "# 대표적인 정렬 : 선택정렬(selection sort)"
   ]
  },
  {
   "cell_type": "markdown",
   "id": "acceptable-absolute",
   "metadata": {},
   "source": [
    "선택정렬 이란?\n",
    "\n",
    "+ 다음과 같은 순서를 반복하며 정렬하는 알고리즘\n",
    "\n",
    "    1. 주어진 데이터 중, 최소값을 찾음\n",
    "    \n",
    "    2. 해당 최소값을 데이터 맨 앞에 위치한 값과 교체\n",
    "    \n",
    "    3. 맨 앞의 위치를 뺀 나머지 데이터를 동일한 방법으로 반복함.\n",
    "    \n",
    "    \n",
    "    \n",
    "https://visualgo.net/en/sorting"
   ]
  },
  {
   "cell_type": "markdown",
   "id": "altered-jungle",
   "metadata": {},
   "source": [
    "작전\n",
    "\n",
    "마지막 데이터는 기준으로 실행할 필요가 없다. 어차피 마지막 남아있는 데이터는 어차피 가장 큰 값이므로..\n",
    "\n",
    "[비교 데이터 인덱스, 비교 시작 데이터 인덱스, 비교 끝 데이터 인덱스] 를 적어가며 비교해보면 된다.\n",
    "\n",
    "\n",
    "```python\n",
    "    for stand in range(데이터 길이 - 1):\n",
    "        #기준점 변수\n",
    "        lowest = stand\n",
    "        for index in range(stand + 1, 데이터 길이):\n",
    "            #Min 값이 아니라면 \n",
    "            if data[lowest] > data[index]:\n",
    "                lowest = index\n",
    "        #반복문 끝나면 Lowest는 최저값을 가지게 되므로 swap\n",
    "        swap(lowest, stand)\n",
    "```\n",
    "        "
   ]
  },
  {
   "cell_type": "markdown",
   "id": "brutal-howard",
   "metadata": {},
   "source": [
    "## 구현"
   ]
  },
  {
   "cell_type": "code",
   "execution_count": 4,
   "id": "solid-product",
   "metadata": {
    "ExecuteTime": {
     "end_time": "2021-02-22T08:11:16.705746Z",
     "start_time": "2021-02-22T08:11:16.701443Z"
    }
   },
   "outputs": [],
   "source": [
    "def selection_sort(data):\n",
    "    for stand in range(len(data) - 1):\n",
    "        #기준점 변수 설정\n",
    "        lowest = stand\n",
    "        #기준점 이후 index들과 비교\n",
    "        for index in range(stand + 1, len(data)):\n",
    "            #만약 기준점의 데이터가 index보다 크다면, 기준점의 데이터가 최소값이 아니므로 기준점 데이터를 Index데이터로 재지정\n",
    "            if data[lowest] > data[index]:\n",
    "                lowest = index\n",
    "        #for문이 다 끝나면 lowest에는 최소값이 저장되므로 처음에 설정한 stand와 바꿔준다.\n",
    "        data[lowest], data[stand] = data[stand],data[lowest]\n",
    "        \n",
    "    return data"
   ]
  },
  {
   "cell_type": "code",
   "execution_count": 5,
   "id": "comprehensive-variety",
   "metadata": {
    "ExecuteTime": {
     "end_time": "2021-02-22T08:11:17.413187Z",
     "start_time": "2021-02-22T08:11:17.408284Z"
    }
   },
   "outputs": [
    {
     "data": {
      "text/plain": [
       "[3, 10, 16, 18, 24, 27, 31, 73, 81, 99]"
      ]
     },
     "execution_count": 5,
     "metadata": {},
     "output_type": "execute_result"
    }
   ],
   "source": [
    "import random\n",
    "\n",
    "data_list = random.sample(range(100),10)\n",
    "\n",
    "selection_sort(data_list)"
   ]
  },
  {
   "cell_type": "markdown",
   "id": "fatal-honey",
   "metadata": {},
   "source": [
    "## 시간복잡도"
   ]
  },
  {
   "cell_type": "markdown",
   "id": "prostate-ability",
   "metadata": {},
   "source": [
    "반복문이 2개이므로 $O\\left( n^{2} \\right)$ \n"
   ]
  }
 ],
 "metadata": {
  "hide_input": false,
  "kernelspec": {
   "display_name": "Python 3",
   "language": "python",
   "name": "python3"
  },
  "language_info": {
   "codemirror_mode": {
    "name": "ipython",
    "version": 3
   },
   "file_extension": ".py",
   "mimetype": "text/x-python",
   "name": "python",
   "nbconvert_exporter": "python",
   "pygments_lexer": "ipython3",
   "version": "3.8.6"
  },
  "toc": {
   "base_numbering": 1,
   "nav_menu": {},
   "number_sections": true,
   "sideBar": true,
   "skip_h1_title": false,
   "title_cell": "Table of Contents",
   "title_sidebar": "Contents",
   "toc_cell": false,
   "toc_position": {},
   "toc_section_display": true,
   "toc_window_display": false
  },
  "varInspector": {
   "cols": {
    "lenName": 16,
    "lenType": 16,
    "lenVar": 40
   },
   "kernels_config": {
    "python": {
     "delete_cmd_postfix": "",
     "delete_cmd_prefix": "del ",
     "library": "var_list.py",
     "varRefreshCmd": "print(var_dic_list())"
    },
    "r": {
     "delete_cmd_postfix": ") ",
     "delete_cmd_prefix": "rm(",
     "library": "var_list.r",
     "varRefreshCmd": "cat(var_dic_list()) "
    }
   },
   "types_to_exclude": [
    "module",
    "function",
    "builtin_function_or_method",
    "instance",
    "_Feature"
   ],
   "window_display": false
  }
 },
 "nbformat": 4,
 "nbformat_minor": 5
}

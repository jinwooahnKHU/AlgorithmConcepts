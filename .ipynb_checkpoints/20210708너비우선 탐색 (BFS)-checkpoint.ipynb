{
 "cells": [
  {
   "cell_type": "markdown",
   "metadata": {},
   "source": [
    "## 너비 우선 탐색 (Breadth-First Search)"
   ]
  },
  {
   "cell_type": "markdown",
   "metadata": {},
   "source": [
    "+ 그래프를 탐색한다는 말로, 노드를 찾아라!\n",
    "\n",
    "+ 노드 찾는 방법 중 BFS, DFS가 대표적으로 있음"
   ]
  },
  {
   "cell_type": "markdown",
   "metadata": {},
   "source": [
    "### 1. BFS 와 DFS 란?\n",
    "* 대표적인 그래프 **탐색** 알고리즘\n",
    "  - 너비 우선 탐색 (Breadth First Search): 정점들과 같은 레벨에 있는 노드들 (형제 노드들)을 먼저 탐색하는 방식\n",
    "  - 깊이 우선 탐색 (Depth First Search): 정점의 자식들을 먼저 탐색하는 방식"
   ]
  },
  {
   "cell_type": "markdown",
   "metadata": {},
   "source": [
    "#### BFS/DFS 방식 이해를 위한 예제\n",
    "- BFS 방식: A - B - C - D - G - H - I - E - F - J \n",
    "  - 한 단계씩 내려가면서, 해당 노드와 같은 레벨에 있는 노드들 (형제 노드들)을 먼저 순회함\n",
    "- DFS 방식: A - B - D - E - F - C - G - H - I - J \n",
    "  - 한 노드의 자식을 타고 끝까지 순회한 후, 다시 돌아와서 다른 형제들의 자식을 타고 내려가며 순화함\n",
    "\n",
    "<img src=\"https://www.fun-coding.org/00_Images/BFSDFS.png\" width=700>"
   ]
  },
  {
   "cell_type": "markdown",
   "metadata": {},
   "source": [
    "### 2. 파이썬으로 그래프를 표현하는 방법\n",
    "- 파이썬에서 제공하는 딕셔너리와 리스트 자료 구조를 활용해서 그래프를 표현할 수 있음"
   ]
  },
  {
   "cell_type": "markdown",
   "metadata": {},
   "source": [
    "### 그래프 예와 파이썬 표현\n",
    "<img src=\"https://www.fun-coding.org/00_Images/bfsgraph.png\" width=700>"
   ]
  },
  {
   "cell_type": "markdown",
   "metadata": {},
   "source": [
    "<그래프를 dictionary로 표현하기>\n",
    "\n",
    "\n",
    "+ 각 노드를 dictionary의 키로 만든다. \n",
    "\n",
    "\n",
    "+ 각 key에 대한 value는 key와 간선으로 연결된 인접 정점(노드)\n",
    "    - A는 B와 C를 value로 가진다\n",
    "    - B는 A와 D를 value로 가진다\n"
   ]
  },
  {
   "cell_type": "code",
   "execution_count": 1,
   "metadata": {
    "ExecuteTime": {
     "end_time": "2021-07-12T10:40:18.054297Z",
     "start_time": "2021-07-12T10:40:18.051399Z"
    }
   },
   "outputs": [],
   "source": [
    "graph = dict()\n",
    "\n",
    "graph['A'] = ['B', 'C']\n",
    "graph['B'] = ['A', 'D']\n",
    "graph['C'] = ['A', 'G', 'H', 'I']\n",
    "graph['D'] = ['B', 'E', 'F']\n",
    "graph['E'] = ['D']\n",
    "graph['F'] = ['D']\n",
    "graph['G'] = ['C']\n",
    "graph['H'] = ['C']\n",
    "graph['I'] = ['C', 'J']\n",
    "graph['J'] = ['I']"
   ]
  },
  {
   "cell_type": "code",
   "execution_count": 2,
   "metadata": {
    "ExecuteTime": {
     "end_time": "2021-07-12T10:40:18.062161Z",
     "start_time": "2021-07-12T10:40:18.055865Z"
    }
   },
   "outputs": [
    {
     "data": {
      "text/plain": [
       "{'A': ['B', 'C'],\n",
       " 'B': ['A', 'D'],\n",
       " 'C': ['A', 'G', 'H', 'I'],\n",
       " 'D': ['B', 'E', 'F'],\n",
       " 'E': ['D'],\n",
       " 'F': ['D'],\n",
       " 'G': ['C'],\n",
       " 'H': ['C'],\n",
       " 'I': ['C', 'J'],\n",
       " 'J': ['I']}"
      ]
     },
     "execution_count": 2,
     "metadata": {},
     "output_type": "execute_result"
    }
   ],
   "source": [
    "graph"
   ]
  },
  {
   "cell_type": "markdown",
   "metadata": {},
   "source": [
    "### 3. BFS 알고리즘 구현\n",
    "\n",
    "- 자료구조 큐를 활용함 -> 두 가지 큐를 만들 것임\n",
    "  - need_visit 큐와 visited 큐, 두 개의 큐를 생성\n",
    "  \n",
    "  <b>\n",
    "  - need_visit 큐 : 방문이 필요한 노드들의 정보를 가지고 있는 큐<br>\n",
    "  - visited 큐 : 방문한 노드를 순서대로 기입한 큐</b>\n",
    "  \n",
    "\n",
    "  \n",
    "<img src=\"https://www.fun-coding.org/00_Images/bfsqueue.png\" width=700>"
   ]
  },
  {
   "cell_type": "markdown",
   "metadata": {},
   "source": [
    "0. 처음으로 방문할 노드를 need visit queue에 넣는다(A를 넣는다)\n",
    "\n",
    "\n",
    "1. need_visit Queue의 맨 앞(A를 예를들면)의 값을 빼서 visited queue에 있는지확인한다 -> 없으면 꺼낸 데이터를 visited queue에 넣는다.\n",
    "\n",
    "\n",
    "2. visited queue에 넣은 A의 value들(B, C)을 need_visit_queue에 넣는다. (한 턴이 끝났다.)\n",
    "\n",
    "\n",
    "3. B를 꺼낸다 -> B는 visited queue에 없으니 넣는다. B의 value를 needvisitqueue의 기존 값의 뒤에 넣는다.(FIFO)\n",
    "\n",
    "\n",
    "4. C를 꺼낸다 -> 넣는다. C의 value인 AGHI를 need visit queue 뒤에 넣는다.\n",
    "\n",
    "\n",
    "5. A를 꺼낸다. -> 이미 방문함. 그러면 아무것도 안하고 다음 턴으로 그냥 넘어감.\n",
    "\n",
    "\n",
    "반복...\n",
    "\n",
    "\n",
    "=> 나중에 다 돌고 visited queue의 결과만 보면 노드 방문순서와 일치한다!!\n"
   ]
  },
  {
   "cell_type": "markdown",
   "metadata": {},
   "source": [
    "- 큐의 구현은 간단히 파이썬 리스트를 활용"
   ]
  },
  {
   "cell_type": "code",
   "execution_count": 3,
   "metadata": {
    "ExecuteTime": {
     "end_time": "2021-07-12T10:40:18.065445Z",
     "start_time": "2021-07-12T10:40:18.063048Z"
    }
   },
   "outputs": [],
   "source": [
    "def bfs(graph, start_node): #위의 dict와 dict에 해당하는 key를 받아옴\n",
    "    #bfs는 dfs와 달리 큐를 두 개 사용한다.\n",
    "    visited = list() #큐를 만든 것\n",
    "    need_visit = list() #큐를 만든 것, 위 그림의 graph dictionary의 파란색 key들을 넣을 것\n",
    "\n",
    "    \n",
    "    need_visit.append(start_node) #스타트 노드 넣음\n",
    "    \n",
    "    #들어가고 나오고 더하는 순회를 while에 넣음\n",
    "    #need_visit에 더 이상 가져올 내용이 없다 즉, 비어있다면 노드들은 다 순회했다고 이해\n",
    "    #따라서 need_visit이 있는지 없는지로 while을 설정\n",
    "    while need_visit:\n",
    "        node = need_visit.pop(0) #맨 앞 인자를 뺀다\n",
    "        if node not in visited:\n",
    "            visited.append(node)\n",
    "            need_visit.extend(graph[node]) #node의 value를 붙힘\n",
    "        \n",
    "    return visited #need_visit이 없으면 \n",
    "    "
   ]
  },
  {
   "cell_type": "code",
   "execution_count": 4,
   "metadata": {
    "ExecuteTime": {
     "end_time": "2021-07-12T10:40:18.068971Z",
     "start_time": "2021-07-12T10:40:18.066275Z"
    }
   },
   "outputs": [
    {
     "data": {
      "text/plain": [
       "['A', 'B', 'C', 'D', 'G', 'H', 'I', 'E', 'F', 'J']"
      ]
     },
     "execution_count": 4,
     "metadata": {},
     "output_type": "execute_result"
    }
   ],
   "source": [
    "bfs(graph, 'A') #순서가 bfs임을 알 수 있다."
   ]
  },
  {
   "cell_type": "code",
   "execution_count": 5,
   "metadata": {
    "ExecuteTime": {
     "end_time": "2021-07-12T10:40:18.072939Z",
     "start_time": "2021-07-12T10:40:18.069860Z"
    }
   },
   "outputs": [
    {
     "data": {
      "text/plain": [
       "[1, 2, 3, 4, 5]"
      ]
     },
     "execution_count": 5,
     "metadata": {},
     "output_type": "execute_result"
    }
   ],
   "source": [
    "data = [1, 2, 3]\n",
    "data.pop() #인자가 없으면 맨 뒤를 뽑아없애고 출력\n",
    "data\n",
    "#인자를 주면 특정 인덱스를 빼내고 뒤를 밀어서 채움\n",
    "data.pop(0)\n",
    "data\n",
    "\n",
    "data = [1, 2, 3]\n",
    "data.extend([4,5]) #extend쓰면 뒤로 붙음\n",
    "data"
   ]
  },
  {
   "cell_type": "markdown",
   "metadata": {},
   "source": [
    "<img src=\"https://www.fun-coding.org/00_Images/bfsgraph.png\" width=700>"
   ]
  },
  {
   "cell_type": "markdown",
   "metadata": {},
   "source": [
    "### 4. 시간 복잡도\n",
    "- 일반적인 BFS 시간 복잡도\n",
    "  - 노드 수: V(vertex)\n",
    "  - 간선 수: E(edge)\n",
    "    - 위 코드에서 while need_visit 은 V + E 번 만큼 수행함( While 구문에서 V + E번..)\n",
    "\n",
    "  - 시간 복잡도: O(V + E) : 입력자체가 Vertex와 edge가 있어서 이렇게 표현\n",
    "  "
   ]
  },
  {
   "cell_type": "markdown",
   "metadata": {},
   "source": [
    "-> 아래 코드에서 O(V + E) 번 인지 check"
   ]
  },
  {
   "cell_type": "code",
   "execution_count": 6,
   "metadata": {
    "ExecuteTime": {
     "end_time": "2021-07-12T10:40:18.076941Z",
     "start_time": "2021-07-12T10:40:18.074141Z"
    }
   },
   "outputs": [],
   "source": [
    "def bfs(graph, start_node):\n",
    "    visited = list()\n",
    "    need_visit = list()\n",
    "    \n",
    "    need_visit.append(start_node)\n",
    "    count = 0 #counter을 넣어주어서 총 몇 번 계산되었는지 세본다\n",
    "    while need_visit:\n",
    "        count += 1\n",
    "        node = need_visit.pop(0)\n",
    "        if node not in visited:\n",
    "            visited.append(node)\n",
    "            need_visit.extend(graph[node])\n",
    "    print (count)\n",
    "    return visited"
   ]
  },
  {
   "cell_type": "code",
   "execution_count": 8,
   "metadata": {
    "ExecuteTime": {
     "end_time": "2021-07-12T10:40:33.178111Z",
     "start_time": "2021-07-12T10:40:33.173369Z"
    }
   },
   "outputs": [
    {
     "name": "stdout",
     "output_type": "stream",
     "text": [
      "19\n"
     ]
    },
    {
     "data": {
      "text/plain": [
       "['A', 'B', 'C', 'D', 'G', 'H', 'I', 'E', 'F', 'J']"
      ]
     },
     "execution_count": 8,
     "metadata": {},
     "output_type": "execute_result"
    }
   ],
   "source": [
    "#V + E번인 19번 수행됨!\n",
    "bfs(graph, 'A')"
   ]
  }
 ],
 "metadata": {
  "hide_input": false,
  "kernelspec": {
   "display_name": "Python 3",
   "language": "python",
   "name": "python3"
  },
  "language_info": {
   "codemirror_mode": {
    "name": "ipython",
    "version": 3
   },
   "file_extension": ".py",
   "mimetype": "text/x-python",
   "name": "python",
   "nbconvert_exporter": "python",
   "pygments_lexer": "ipython3",
   "version": "3.8.6"
  },
  "nbTranslate": {
   "displayLangs": [
    "*"
   ],
   "hotkey": "alt-t",
   "langInMainMenu": true,
   "sourceLang": "en",
   "targetLang": "fr",
   "useGoogleTranslate": true
  },
  "toc": {
   "base_numbering": 1,
   "nav_menu": {},
   "number_sections": true,
   "sideBar": true,
   "skip_h1_title": false,
   "title_cell": "Table of Contents",
   "title_sidebar": "Contents",
   "toc_cell": false,
   "toc_position": {},
   "toc_section_display": true,
   "toc_window_display": false
  },
  "varInspector": {
   "cols": {
    "lenName": 16,
    "lenType": 16,
    "lenVar": 40
   },
   "kernels_config": {
    "python": {
     "delete_cmd_postfix": "",
     "delete_cmd_prefix": "del ",
     "library": "var_list.py",
     "varRefreshCmd": "print(var_dic_list())"
    },
    "r": {
     "delete_cmd_postfix": ") ",
     "delete_cmd_prefix": "rm(",
     "library": "var_list.r",
     "varRefreshCmd": "cat(var_dic_list()) "
    }
   },
   "types_to_exclude": [
    "module",
    "function",
    "builtin_function_or_method",
    "instance",
    "_Feature"
   ],
   "window_display": false
  }
 },
 "nbformat": 4,
 "nbformat_minor": 1
}
